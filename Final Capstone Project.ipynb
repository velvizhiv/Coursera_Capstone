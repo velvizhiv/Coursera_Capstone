{
    "cells": [
        {
            "cell_type": "markdown",
            "metadata": {
                "collapsed": true
            },
            "source": "<h1><b>Introduction / Business Problem</B></h1>\n    <p>Recently there has been influx of people moving from USA to Canada. Before the move, we would like to know more about that location and have an idea about the location. For this problem, we will be comparing New York and Toronto as they are most popular,diverse and financial capital of both the countries. Lets jump in and see how similar or dissimilar they are with respect to places like museum, restaurants near by these location.</p>"
        },
        {
            "cell_type": "markdown",
            "metadata": {},
            "source": "<h1><b> Data to be used</b></h1>\n\n<b>New York data</b><br>\n<i>Neighborhood data for New York</i>: https://geo.nyu.edu/catalog/nyu_2451_34572 <br>\n<i>Geo Spatial data</i> : https://cocl.us/new_york_dataset<br>\nWe are using Geo Spatial data as Neighborhood data doesnt contain the longitude and latitude of the neighborhood<br>\n<br>\n<b>Toronto Neighborhood data</b><br>\n<i>Neighborhood data for Toronto</i>: https://en.wikipedia.org/w/index.php?title=List_of_postal_codes_of_Canada:_H&oldid=945633050.<br>\n<i>Geo Spatial data</i> : https://cocl.us/Geospatial_data<br>\n<br>\n<b>Foursquare API</b><br>\n    We will be cleaning the above data and use with Foursquare api to get details about venues around these neighborhood in these locations to compare further."
        },
        {
            "cell_type": "code",
            "execution_count": null,
            "metadata": {},
            "outputs": [],
            "source": ""
        }
    ],
    "metadata": {
        "kernelspec": {
            "display_name": "Python 3.6",
            "language": "python",
            "name": "python3"
        },
        "language_info": {
            "codemirror_mode": {
                "name": "ipython",
                "version": 3
            },
            "file_extension": ".py",
            "mimetype": "text/x-python",
            "name": "python",
            "nbconvert_exporter": "python",
            "pygments_lexer": "ipython3",
            "version": "3.6.9"
        }
    },
    "nbformat": 4,
    "nbformat_minor": 1
}